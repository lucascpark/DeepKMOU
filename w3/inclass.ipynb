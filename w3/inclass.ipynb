{
  "nbformat": 4,
  "nbformat_minor": 0,
  "metadata": {
    "colab": {
      "provenance": [],
      "authorship_tag": "ABX9TyMGIvljbTxQw7NVuPURK3aG",
      "include_colab_link": true
    },
    "kernelspec": {
      "name": "python3",
      "display_name": "Python 3"
    },
    "language_info": {
      "name": "python"
    }
  },
  "cells": [
    {
      "cell_type": "markdown",
      "metadata": {
        "id": "view-in-github",
        "colab_type": "text"
      },
      "source": [
        "<a href=\"https://colab.research.google.com/github/lucascpark/DeepKMOU/blob/main/w3/inclass.ipynb\" target=\"_parent\"><img src=\"https://colab.research.google.com/assets/colab-badge.svg\" alt=\"Open In Colab\"/></a>"
      ]
    },
    {
      "cell_type": "markdown",
      "source": [
        "# W3. 딥러닝 핵심 미리보기"
      ],
      "metadata": {
        "id": "BsjIzH-vzZJw"
      }
    },
    {
      "cell_type": "markdown",
      "source": [
        "# Example : 폐암 수술 환자의 생존율 예측 ' 코드 미리 보기\n"
      ],
      "metadata": {
        "id": "DLkd3va9zwKx"
      }
    },
    {
      "cell_type": "markdown",
      "source": [
        "## 1. 환경 준비"
      ],
      "metadata": {
        "id": "8R7aQJxJ0QOl"
      }
    },
    {
      "cell_type": "code",
      "execution_count": 6,
      "metadata": {
        "id": "3-y9_aZYujoT"
      },
      "outputs": [],
      "source": [
        "from tensorflow.keras.models import Sequential\n",
        "from tensorflow.keras.layers import Dense\n",
        "import numpy as np"
      ]
    },
    {
      "cell_type": "markdown",
      "source": [
        "## 2. 데이터 준비"
      ],
      "metadata": {
        "id": "P5bXXYZt2-yj"
      }
    },
    {
      "cell_type": "code",
      "source": [
        "Data_set = np.loadtxt('http://raw.githubusercontent.com/dhshinEddie/DeepKMOU/main/W3/ThoraricSurgery3.csv', delimiter=\",\")\n",
        "x = Data_set[:,0:16]\n",
        "y = Data_set[:,16]"
      ],
      "metadata": {
        "id": "kx0RHuD6vmjN"
      },
      "execution_count": 15,
      "outputs": []
    },
    {
      "cell_type": "markdown",
      "source": [
        "## 3. 구조 결정"
      ],
      "metadata": {
        "id": "j5SNhgWW3JP9"
      }
    },
    {
      "cell_type": "code",
      "source": [
        "model = Sequential()\n",
        "model.add(Dense(30, input_dim=16, activation='relu'))\n",
        "model.add(Dense(1, activation='sigmoid'))"
      ],
      "metadata": {
        "id": "w-uMRhwl0ekp"
      },
      "execution_count": 16,
      "outputs": []
    },
    {
      "cell_type": "markdown",
      "source": [
        "## 4. 모델 실행"
      ],
      "metadata": {
        "id": "7QqDsvLj3ND6"
      }
    },
    {
      "cell_type": "code",
      "source": [
        "model.compile(loss='binary_crossentropy', optimizer='adam', metrics=['accuracy'])\n",
        "history = model.fit(x, y, epochs=5, batch_size=16)"
      ],
      "metadata": {
        "colab": {
          "base_uri": "https://localhost:8080/"
        },
        "id": "oZq4h2YQ1_jt",
        "outputId": "11827f37-e1cb-4934-e8ea-6c52f775821c"
      },
      "execution_count": 20,
      "outputs": [
        {
          "output_type": "stream",
          "name": "stdout",
          "text": [
            "Epoch 1/5\n",
            "30/30 [==============================] - 1s 4ms/step - loss: 7.6892 - accuracy: 0.1489\n",
            "Epoch 2/5\n",
            "30/30 [==============================] - 0s 2ms/step - loss: 1.2387 - accuracy: 0.5660\n",
            "Epoch 3/5\n",
            "30/30 [==============================] - 0s 3ms/step - loss: 0.6500 - accuracy: 0.8255\n",
            "Epoch 4/5\n",
            "30/30 [==============================] - 0s 3ms/step - loss: 0.4988 - accuracy: 0.8362\n",
            "Epoch 5/5\n",
            "30/30 [==============================] - 0s 2ms/step - loss: 0.4508 - accuracy: 0.8511\n"
          ]
        }
      ]
    }
  ]
}