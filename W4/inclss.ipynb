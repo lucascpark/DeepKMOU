{
  "nbformat": 4,
  "nbformat_minor": 0,
  "metadata": {
    "colab": {
      "provenance": [],
      "authorship_tag": "ABX9TyPNEcbcnKd/7U/VNZfOSvsn",
      "include_colab_link": true
    },
    "kernelspec": {
      "name": "python3",
      "display_name": "Python 3"
    },
    "language_info": {
      "name": "python"
    }
  },
  "cells": [
    {
      "cell_type": "markdown",
      "metadata": {
        "id": "view-in-github",
        "colab_type": "text"
      },
      "source": [
        "<a href=\"https://colab.research.google.com/github/lucascpark/DeepKMOU/blob/main/W4/inclss.ipynb\" target=\"_parent\"><img src=\"https://colab.research.google.com/assets/colab-badge.svg\" alt=\"Open In Colab\"/></a>"
      ]
    },
    {
      "cell_type": "code",
      "execution_count": 1,
      "metadata": {
        "id": "my-3rGIJtA9g"
      },
      "outputs": [],
      "source": [
        "import numpy as np"
      ]
    },
    {
      "cell_type": "code",
      "source": [
        "x = np.array([2,4,6,8])\n",
        "y = np.array([81,93,91,97])\n",
        "mx = np.mean(x)\n",
        "my = np.mean(y)\n",
        "\n",
        "print(mx)\n",
        "print(my)"
      ],
      "metadata": {
        "colab": {
          "base_uri": "https://localhost:8080/"
        },
        "id": "Qk3L0MNt88La",
        "outputId": "f47d57a5-170d-4ec9-827b-5945e41e3fd8"
      },
      "execution_count": 11,
      "outputs": [
        {
          "output_type": "stream",
          "name": "stdout",
          "text": [
            "5.0\n",
            "90.5\n"
          ]
        }
      ]
    },
    {
      "cell_type": "code",
      "source": [
        "divisor = sum([(i-mx)**2 for i in x])\n",
        "\n",
        "def di(x,y,mx,my):\n",
        "  d = 0\n",
        "  for i in range(len(x)):\n",
        "    d += (x[i]-mx)*(y[i]-my)\n",
        "  return d\n",
        "\n",
        "dividend = di(x, y, mx, my)\n",
        "\n",
        "a = dividend / divisor\n",
        "b = my-(mx*a)\n",
        "\n",
        "print(\"x의 평균값: {}\".format(mx))\n",
        "print(\"y의 평균값: {}\".format(my))\n",
        "\n",
        "print('분모: {}'.format(divisor))\n",
        "print('분자: {}'.format(dividend))\n",
        "\n",
        "print('기울기 a: {}'.format(a))\n",
        "print('y 절편 b: {}'.format(b))"
      ],
      "metadata": {
        "colab": {
          "base_uri": "https://localhost:8080/"
        },
        "id": "x0UonDoD9Fek",
        "outputId": "1f09b9aa-cea4-4ed5-d031-018d3166f3d1"
      },
      "execution_count": 22,
      "outputs": [
        {
          "output_type": "stream",
          "name": "stdout",
          "text": [
            "x의 평균값: 5.0\n",
            "y의 평균값: 90.5\n",
            "분모: 20.0\n",
            "분자: 46.0\n",
            "기울기 a: 2.3\n",
            "y 절편 b: 79.0\n"
          ]
        }
      ]
    },
    {
      "cell_type": "code",
      "source": [
        "fake_a = 3\n",
        "fake_b = 76\n",
        "\n",
        "def predict(a, x, b):\n",
        "  return a*x + b\n",
        "\n",
        "predict_result = []\n",
        "for i in range(len(x)):\n",
        "  predict_result.append(predict(fake_a, x[i], fake_b))\n",
        "\n",
        "def mse(y, y_pred):\n",
        "  return sum([(y[i]-y_pred[i])**2 for i in range(len(y))]) / len(y)\n",
        "\n",
        "for i in range(len(x)):\n",
        "  print(\"공부시간 = {}, 실제점수 = {}, 예측점수 = {}\".format(x[i], y[i], predict_result[i]))\n",
        "print(\"평균 제곱 오차: {}\".format(mse(y, predict_result)))"
      ],
      "metadata": {
        "colab": {
          "base_uri": "https://localhost:8080/"
        },
        "id": "b-Ni0FTDEZyK",
        "outputId": "604d48eb-53f6-4f98-e74c-d2144f8975ce"
      },
      "execution_count": 30,
      "outputs": [
        {
          "output_type": "stream",
          "name": "stdout",
          "text": [
            "공부시간 = 2, 실제점수 = 81, 예측점수 = 82\n",
            "공부시간 = 4, 실제점수 = 93, 예측점수 = 88\n",
            "공부시간 = 6, 실제점수 = 91, 예측점수 = 94\n",
            "공부시간 = 8, 실제점수 = 97, 예측점수 = 100\n",
            "평균 제곱 오차: 11.0\n"
          ]
        }
      ]
    }
  ]
}